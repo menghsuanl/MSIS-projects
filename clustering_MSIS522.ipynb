{
 "cells": [
  {
   "cell_type": "markdown",
   "metadata": {
    "colab_type": "text",
    "id": "zK7EWLIXRu0C"
   },
   "source": [
    "# Clustering"
   ]
  },
  {
   "cell_type": "markdown",
   "metadata": {
    "colab_type": "text",
    "id": "1Bq6HcaJSzWe"
   },
   "source": [
    "## Problem 1: Segment Customers"
   ]
  },
  {
   "cell_type": "markdown",
   "metadata": {
    "colab_type": "text",
    "id": "5dKNjMuKRu0E"
   },
   "source": [
    "The problem that we are going to solve in this assignment is to segment customers into different groups based on their shopping trends."
   ]
  },
  {
   "cell_type": "code",
   "execution_count": 4,
   "metadata": {
    "colab": {},
    "colab_type": "code",
    "id": "snzfWDzvRu0F"
   },
   "outputs": [],
   "source": [
    "# import packages\n",
    "%matplotlib inline\n",
    "import numpy as np\n",
    "import pandas as pd\n",
    "import matplotlib.pyplot as plt\n",
    "import seaborn as sns\n",
    "sns.set()"
   ]
  },
  {
   "cell_type": "markdown",
   "metadata": {
    "colab_type": "text",
    "id": "O5K8-XTXRu0K"
   },
   "source": [
    "### Load data\n",
    "\n",
    "Our dataset has five columns: CustomerID, Genre, Age, Annual Income, and Spending Score. To view the results in two-dimensional feature space, we will retain only two of these five columns. We can remove CustomerID column, Genre, and Age column. We will retain the Annual Income (in thousands of dollars) and Spending Score (1-100) columns. The Spending Score column signifies how often a person spends money in a mall on a scale of 1 to 100 with 100 being the highest spender."
   ]
  },
  {
   "cell_type": "code",
   "execution_count": 2,
   "metadata": {
    "colab": {},
    "colab_type": "code",
    "id": "lbOcjmnqRu0L"
   },
   "outputs": [
    {
     "data": {
      "text/html": [
       "<div>\n",
       "<style scoped>\n",
       "    .dataframe tbody tr th:only-of-type {\n",
       "        vertical-align: middle;\n",
       "    }\n",
       "\n",
       "    .dataframe tbody tr th {\n",
       "        vertical-align: top;\n",
       "    }\n",
       "\n",
       "    .dataframe thead th {\n",
       "        text-align: right;\n",
       "    }\n",
       "</style>\n",
       "<table border=\"1\" class=\"dataframe\">\n",
       "  <thead>\n",
       "    <tr style=\"text-align: right;\">\n",
       "      <th></th>\n",
       "      <th>customer_id</th>\n",
       "      <th>genre</th>\n",
       "      <th>age</th>\n",
       "      <th>annual_income</th>\n",
       "      <th>spending_score</th>\n",
       "    </tr>\n",
       "  </thead>\n",
       "  <tbody>\n",
       "    <tr>\n",
       "      <th>0</th>\n",
       "      <td>1</td>\n",
       "      <td>Male</td>\n",
       "      <td>19</td>\n",
       "      <td>15</td>\n",
       "      <td>39</td>\n",
       "    </tr>\n",
       "    <tr>\n",
       "      <th>1</th>\n",
       "      <td>2</td>\n",
       "      <td>Male</td>\n",
       "      <td>21</td>\n",
       "      <td>15</td>\n",
       "      <td>81</td>\n",
       "    </tr>\n",
       "    <tr>\n",
       "      <th>2</th>\n",
       "      <td>3</td>\n",
       "      <td>Female</td>\n",
       "      <td>20</td>\n",
       "      <td>16</td>\n",
       "      <td>6</td>\n",
       "    </tr>\n",
       "    <tr>\n",
       "      <th>3</th>\n",
       "      <td>4</td>\n",
       "      <td>Female</td>\n",
       "      <td>23</td>\n",
       "      <td>16</td>\n",
       "      <td>77</td>\n",
       "    </tr>\n",
       "    <tr>\n",
       "      <th>4</th>\n",
       "      <td>5</td>\n",
       "      <td>Female</td>\n",
       "      <td>31</td>\n",
       "      <td>17</td>\n",
       "      <td>40</td>\n",
       "    </tr>\n",
       "  </tbody>\n",
       "</table>\n",
       "</div>"
      ],
      "text/plain": [
       "   customer_id   genre  age  annual_income  spending_score\n",
       "0            1    Male   19             15              39\n",
       "1            2    Male   21             15              81\n",
       "2            3  Female   20             16               6\n",
       "3            4  Female   23             16              77\n",
       "4            5  Female   31             17              40"
      ]
     },
     "metadata": {},
     "output_type": "display_data"
    }
   ],
   "source": [
    "# load the data\n",
    "shopping_data = pd.read_csv('https://raw.githubusercontent.com/zariable/data/master/shopping_data.csv')\n",
    "shopping_data.rename(\n",
    "    columns={\n",
    "        'CustomerID': 'customer_id',\n",
    "        'Genre': 'genre',\n",
    "        'Age': 'age',\n",
    "        'Annual Income (k$)': 'annual_income',\n",
    "        'Spending Score (1-100)': 'spending_score'\n",
    "    },\n",
    "    inplace=True\n",
    ")\n",
    "display(shopping_data.head())\n",
    "\n"
   ]
  },
  {
   "cell_type": "code",
   "execution_count": 4,
   "metadata": {},
   "outputs": [],
   "source": [
    "# TODO: retain only anual_income and spending_score for clustering\n",
    "df = shopping_data[['annual_income', 'spending_score']]"
   ]
  },
  {
   "cell_type": "markdown",
   "metadata": {
    "colab_type": "text",
    "id": "Wx6deWgoRu0O"
   },
   "source": [
    "### Hierarchical Clustering\n",
    "First, we will apply hierarchical clustering and use dendrogram to help find the number of clusters within the data.\n",
    "\n",
    "**TODO: Use dendrogram to plot hierarchical clustering and find the number of clusters that makes sense.**"
   ]
  },
  {
   "cell_type": "code",
   "execution_count": 5,
   "metadata": {
    "colab": {},
    "colab_type": "code",
    "id": "11EVF7NPRu0P"
   },
   "outputs": [
    {
     "data": {
      "image/png": "[encoded data removed]",
      "text/plain": [
       "<Figure size 720x504 with 1 Axes>"
      ]
     },
     "metadata": {},
     "output_type": "display_data"
    }
   ],
   "source": [
    "# TODO\n",
    "import scipy.cluster.hierarchy as shc\n",
    "\n",
    "plt.figure(figsize=(10,7))\n",
    "plt.title('Dendrogram')\n",
    "dend = shc.dendrogram(shc.linkage(df,method='ward'))"
   ]
  },
  {
   "cell_type": "markdown",
   "metadata": {
    "colab_type": "text",
    "id": "x_8vcGNyRu0T"
   },
   "source": [
    "**TODO: Apply hierarchical clustering based on the number of clusters you pick from the dendrogram, and visualize the results using scatterplot.**"
   ]
  },
  {
   "cell_type": "code",
   "execution_count": 10,
   "metadata": {
    "colab": {},
    "colab_type": "code",
    "id": "ZDz8vl9rRu0T"
   },
   "outputs": [
    {
     "data": {
      "text/plain": [
       "Text(0.5, 0, 'spending_score')"
      ]
     },
     "execution_count": 10,
     "metadata": {},
     "output_type": "execute_result"
    },
    {
     "data": {
      "image/png": "[encoded data removed]",
      "text/plain": [
       "<Figure size 432x288 with 1 Axes>"
      ]
     },
     "metadata": {},
     "output_type": "display_data"
    }
   ],
   "source": [
    "# TODO\n",
    "from scipy.spatial.distance import euclidean\n",
    "from sklearn.cluster import AgglomerativeClustering\n",
    "\n",
    "hc = AgglomerativeClustering(n_clusters=10, affinity='euclidean', linkage='ward')\n",
    "y_ward = hc.fit_predict(df) #fit and predict at the same time\n",
    "\n",
    "plt.scatter(df['spending_score'], df['annual_income'], c=y_ward, s=10)\n",
    "plt.ylabel('annual_income')\n",
    "plt.xlabel('spending_score')"
   ]
  },
  {
   "cell_type": "markdown",
   "metadata": {
    "colab_type": "text",
    "id": "zc1jqvW7Ru0W"
   },
   "source": [
    "### K-means Clustering\n",
    "Then, we will apply k-means to the same data and visualize the results.\n",
    "\n",
    "**TODO: Vary the number of K from 2 to 10 and plot the Sum of Squared Error (SSE) as K increases and pick up the value of K that makes sense.**"
   ]
  },
  {
   "cell_type": "code",
   "execution_count": 23,
   "metadata": {
    "colab": {},
    "colab_type": "code",
    "id": "7gC5iFpoRu0Y"
   },
   "outputs": [
    {
     "data": {
      "text/plain": [
       "Text(0, 0.5, 'SSE')"
      ]
     },
     "execution_count": 23,
     "metadata": {},
     "output_type": "execute_result"
    },
    {
     "data": {
      "image/png": "[encoded data removed]",
      "text/plain": [
       "<Figure size 432x288 with 1 Axes>"
      ]
     },
     "metadata": {},
     "output_type": "display_data"
    }
   ],
   "source": [
    "# TODO\n",
    "from sklearn.cluster import KMeans\n",
    "sse = []\n",
    "for i in range(2,11):\n",
    "    kmeans = KMeans(n_clusters=i)\n",
    "    kmeans.fit(df)\n",
    "    sse.append(kmeans.inertia_)\n",
    "plt.plot(range(2,11), sse)\n",
    "plt.xlabel('# of clusters')\n",
    "plt.ylabel('SSE')"
   ]
  },
  {
   "cell_type": "code",
   "execution_count": null,
   "metadata": {},
   "outputs": [],
   "source": [
    "# I picked k=5, since SSE decreases much slower after k=5 (this is the elbow point)"
   ]
  },
  {
   "cell_type": "markdown",
   "metadata": {
    "colab_type": "text",
    "id": "52XDinaTRu0b"
   },
   "source": [
    "**TODO: Cluster the data using K-means based on the pre-defined value of K from the previous step and and visualize the results using scatterplot. **"
   ]
  },
  {
   "cell_type": "code",
   "execution_count": 25,
   "metadata": {
    "colab": {},
    "colab_type": "code",
    "id": "SWQ4KJp-Ru0b"
   },
   "outputs": [],
   "source": [
    "# TODO\n",
    "kmeans = KMeans(n_clusters=5)\n",
    "kmeans.fit(df)\n",
    "y = kmeans.predict(df)"
   ]
  },
  {
   "cell_type": "code",
   "execution_count": 29,
   "metadata": {},
   "outputs": [
    {
     "data": {
      "text/plain": [
       "Text(0.5, 0, 'spending_score')"
      ]
     },
     "execution_count": 29,
     "metadata": {},
     "output_type": "execute_result"
    },
    {
     "data": {
      "image/png": "[encoded data removed]",
      "text/plain": [
       "<Figure size 432x288 with 1 Axes>"
      ]
     },
     "metadata": {},
     "output_type": "display_data"
    }
   ],
   "source": [
    "plt.scatter(df['spending_score'], df['annual_income'], c=y, s=10)\n",
    "plt.ylabel('annual_income')\n",
    "plt.xlabel('spending_score')"
   ]
  },
  {
   "cell_type": "markdown",
   "metadata": {
    "colab_type": "text",
    "id": "mKBYBdKjSrC2"
   },
   "source": [
    "## Problem 2: Clustering (Manually)"
   ]
  },
  {
   "cell_type": "markdown",
   "metadata": {
    "colab_type": "text",
    "id": "Enllke2tSrj6"
   },
   "source": [
    "For the following dataset, perform the clustering “by hand”:\n",
    "\n",
    "17 28 50 60 80 89 150 167 171 189 \n",
    "1. \tUse the K-means algorithm with K= 3 to cluster the data\n",
    "2. \tUse hierarchical agglomerative clustering with single linkage to cluster the data\n",
    "3. \tUse hierarchical agglomerative clustering with complete linkage to cluster the data\n",
    "4. \tFor K-means What will the final clusters be after 3 iterations if k=3 and the initial centers are 150, 171 and 189"
   ]
  },
  {
   "cell_type": "code",
   "execution_count": 30,
   "metadata": {},
   "outputs": [],
   "source": [
    "# Submit by excel file to show the process, the clusters are shown in yellow background on the sheet"
   ]
  },
  {
   "cell_type": "markdown",
   "metadata": {
    "colab_type": "text",
    "id": "TuA0ZcPfRu0e"
   },
   "source": [
    "## Bonus points\n",
    "Use the dataset of accepted papers at the AAAI 2014 conference to find clusters of papers using K-Means. You can use paper title or abstract to build your features using [Bag of Words](https://en.wikipedia.org/wiki/Bag-of-words_model).\n",
    "\n",
    "1. Vary the number of K from 2 to 6 and show if the results vary and assess the clusters obtained.\n",
    "\n",
    "2. Make a case regarding which clusters ‘make sense’ e.g., is there a cluster were papers on reinforcement learning are together vs. another cluster which has papers on deep learning."
   ]
  },
  {
   "cell_type": "code",
   "execution_count": 5,
   "metadata": {
    "colab": {},
    "colab_type": "code",
    "id": "sgqqIL0PRu0f"
   },
   "outputs": [],
   "source": [
    "# Load the Relevant libraries\n",
    "import sklearn as sk\n",
    "import nltk\n",
    "from collections import Counter\n",
    "\n",
    "# URL for the AAAI (UW Repository)\n",
    "aaai_data = pd.read_csv(\"https://raw.githubusercontent.com/zariable/data/master/AAAI2014AcceptedPapers.csv\")\n",
    "\n",
    "# TODO"
   ]
  },
  {
   "cell_type": "code",
   "execution_count": 113,
   "metadata": {},
   "outputs": [],
   "source": [
    "# Turn titles into word count vectors\n",
    "from sklearn.feature_extraction.text import CountVectorizer\n",
    "vec1 = CountVectorizer()\n",
    "vec1.fit(df['title']) # fit the entire corpus\n",
    "title_vec = vec1.transform(aaai_data['title'])\n",
    "title_vec = title_vec.toarray()"
   ]
  },
  {
   "cell_type": "code",
   "execution_count": 117,
   "metadata": {},
   "outputs": [
    {
     "data": {
      "text/plain": [
       "Text(0, 0.5, 'SSE')"
      ]
     },
     "execution_count": 117,
     "metadata": {},
     "output_type": "execute_result"
    },
    {
     "data": {
      "image/png": "[encoded data removed]",
      "text/plain": [
       "<Figure size 432x288 with 1 Axes>"
      ]
     },
     "metadata": {},
     "output_type": "display_data"
    }
   ],
   "source": [
    "# Train k-means\n",
    "from sklearn.cluster import KMeans\n",
    "sse = []\n",
    "for i in range(2,7):\n",
    "    kmeans = KMeans(n_clusters=i)\n",
    "    kmeans.fit(title_vec)\n",
    "    sse.append(kmeans.inertia_)\n",
    "plt.plot(range(2,7), sse)\n",
    "plt.xlabel('# of clusters')\n",
    "plt.ylabel('SSE')"
   ]
  },
  {
   "cell_type": "code",
   "execution_count": 118,
   "metadata": {},
   "outputs": [],
   "source": [
    "# There's no elbow in the plot, pick the 6 clusters\n",
    "km = KMeans(n_clusters=6)\n",
    "km.fit(title_vec)\n",
    "y = km.predict(title_vec)\n",
    "df = pd.DataFrame(aaai_data['title'])\n",
    "df['gp'] = y"
   ]
  },
  {
   "cell_type": "markdown",
   "metadata": {},
   "source": [
    "### From the most frequent words in each group, we can see that some groups are focused on specific topic, for example:\n",
    "Group 1: natural, language, large\n",
    "\n",
    "Group 2: Bayesian, clustering, linear, supervied\n",
    "\n",
    "Group 4: image, classification, representation\n",
    "\n"
   ]
  },
  {
   "cell_type": "markdown",
   "metadata": {},
   "source": [
    "## group 0"
   ]
  },
  {
   "cell_type": "code",
   "execution_count": 130,
   "metadata": {},
   "outputs": [
    {
     "data": {
      "text/plain": [
       "[('Description', 2),\n",
       " ('Logic', 2),\n",
       " ('Querying', 1),\n",
       " ('Inconsistent', 1),\n",
       " ('Knowledge', 1),\n",
       " ('Bases', 1),\n",
       " ('Preferred', 1),\n",
       " ('Repair', 1),\n",
       " ('Semantics,', 1),\n",
       " ('A', 1),\n",
       " ('Tractable', 1),\n",
       " ('Approach', 1),\n",
       " ('ABox', 1),\n",
       " ('Abduction', 1),\n",
       " ('Ontologies', 1)]"
      ]
     },
     "execution_count": 130,
     "metadata": {},
     "output_type": "execute_result"
    }
   ],
   "source": [
    "# merge all titles in the group into one corpus\n",
    "lst = []\n",
    "for i in df[df['gp']==0]['title']:\n",
    "    lst.append(i)\n",
    "corp = str(lst)[2:-2].replace(\"\\'\", '')\n",
    "\n",
    "# tokenize the corpus\n",
    "tokenizer = nltk.tokenize.WhitespaceTokenizer()\n",
    "tokens = tokenizer.tokenize(corp)\n",
    "stopwords_removed = [token for token in tokens if not token in stopwords.words('english')]\n",
    "\n",
    "# Check most common words in the group\n",
    "counter = Counter()\n",
    "counter.update(stopwords_removed)\n",
    "most_common = counter.most_common(20)\n",
    "most_common"
   ]
  },
  {
   "cell_type": "markdown",
   "metadata": {},
   "source": [
    "## group 1"
   ]
  },
  {
   "cell_type": "code",
   "execution_count": 131,
   "metadata": {},
   "outputs": [
    {
     "data": {
      "text/plain": [
       "[('Learning', 7),\n",
       " ('Modeling', 5),\n",
       " ('A', 5),\n",
       " ('Stochastic', 3),\n",
       " ('Model', 3),\n",
       " ('Social', 3),\n",
       " ('Planning', 3),\n",
       " ('Information', 2),\n",
       " ('Scalable', 2),\n",
       " ('Language', 2),\n",
       " ('via', 2),\n",
       " ('Natural', 2),\n",
       " ('Label', 2),\n",
       " ('Privacy', 2),\n",
       " ('Recommendation,', 2),\n",
       " ('Large', 2),\n",
       " ('Preference', 2),\n",
       " ('Elicitation', 2),\n",
       " ('Shaping', 2),\n",
       " ('Robust', 2)]"
      ]
     },
     "execution_count": 131,
     "metadata": {},
     "output_type": "execute_result"
    }
   ],
   "source": [
    "# merge all titles in the group into one corpus\n",
    "lst = []\n",
    "for i in df[df['gp']==1]['title']:\n",
    "    lst.append(i)\n",
    "corp = str(lst)[2:-2].replace(\"\\'\", '')\n",
    "\n",
    "# tokenize the corpus\n",
    "tokenizer = nltk.tokenize.WhitespaceTokenizer()\n",
    "tokens = tokenizer.tokenize(corp)\n",
    "stopwords_removed = [token for token in tokens if not token in stopwords.words('english')]\n",
    "\n",
    "# Check most common words in the group\n",
    "counter = Counter()\n",
    "counter.update(stopwords_removed)\n",
    "most_common = counter.most_common(20)\n",
    "most_common"
   ]
  },
  {
   "cell_type": "markdown",
   "metadata": {},
   "source": [
    "## group 2"
   ]
  },
  {
   "cell_type": "code",
   "execution_count": 136,
   "metadata": {},
   "outputs": [
    {
     "data": {
      "text/plain": [
       "[('A', 17),\n",
       " ('Learning', 15),\n",
       " ('via', 14),\n",
       " ('Learning,', 11),\n",
       " ('Based', 8),\n",
       " ('Online', 8),\n",
       " ('Sparse', 7),\n",
       " ('Social', 6),\n",
       " ('Probabilistic', 5),\n",
       " ('On', 5),\n",
       " ('Search,', 5),\n",
       " ('Transfer', 4),\n",
       " ('Robust', 4),\n",
       " ('Optimal', 4),\n",
       " ('Model', 4),\n",
       " ('Supervised', 4),\n",
       " ('Bayesian', 3),\n",
       " ('Clustering', 3),\n",
       " ('Information', 3),\n",
       " ('Linear', 3)]"
      ]
     },
     "execution_count": 136,
     "metadata": {},
     "output_type": "execute_result"
    }
   ],
   "source": [
    "# merge all titles in the group into one corpus\n",
    "lst = []\n",
    "for i in df[df['gp']==2]['title']:\n",
    "    lst.append(i)\n",
    "corp = str(lst)[2:-2].replace(\"\\'\", '')\n",
    "\n",
    "# tokenize the corpus\n",
    "tokenizer = nltk.tokenize.WhitespaceTokenizer()\n",
    "tokens = tokenizer.tokenize(corp)\n",
    "stopwords_removed = [token for token in tokens if not token in stopwords.words('english')]\n",
    "\n",
    "# Check most common words in the group\n",
    "counter = Counter()\n",
    "counter.update(stopwords_removed)\n",
    "most_common = counter.most_common(20)\n",
    "most_common"
   ]
  },
  {
   "cell_type": "markdown",
   "metadata": {},
   "source": [
    "## group 3"
   ]
  },
  {
   "cell_type": "code",
   "execution_count": 135,
   "metadata": {},
   "outputs": [
    {
     "data": {
      "text/plain": [
       "[('Learning', 9),\n",
       " ('A', 7),\n",
       " ('The', 7),\n",
       " ('On', 5),\n",
       " ('Social', 4),\n",
       " ('Complexity', 4),\n",
       " ('Efficient', 4),\n",
       " ('Models', 4),\n",
       " ('Computational', 3),\n",
       " ('Datalog', 3),\n",
       " ('Online', 3),\n",
       " ('Networks,', 3),\n",
       " ('Generalized', 3),\n",
       " ('Model', 3),\n",
       " ('Ontology', 3),\n",
       " ('Probabilistic', 2),\n",
       " ('Randomized', 2),\n",
       " ('Choice,', 2),\n",
       " ('Intelligent', 2),\n",
       " ('Reasoning', 2)]"
      ]
     },
     "execution_count": 135,
     "metadata": {},
     "output_type": "execute_result"
    }
   ],
   "source": [
    "# merge all titles in the group into one corpus\n",
    "lst = []\n",
    "for i in df[df['gp']==3]['title']:\n",
    "    lst.append(i)\n",
    "corp = str(lst)[2:-2].replace(\"\\'\", '')\n",
    "\n",
    "# tokenize the corpus\n",
    "tokenizer = nltk.tokenize.WhitespaceTokenizer()\n",
    "tokens = tokenizer.tokenize(corp)\n",
    "stopwords_removed = [token for token in tokens if not token in stopwords.words('english')]\n",
    "\n",
    "# Check most common words in the group\n",
    "counter = Counter()\n",
    "counter.update(stopwords_removed)\n",
    "most_common = counter.most_common(20)\n",
    "most_common"
   ]
  },
  {
   "cell_type": "markdown",
   "metadata": {},
   "source": [
    "## group 4"
   ]
  },
  {
   "cell_type": "code",
   "execution_count": 134,
   "metadata": {},
   "outputs": [
    {
     "data": {
      "text/plain": [
       "[('A', 16),\n",
       " ('Learning', 12),\n",
       " ('Image', 8),\n",
       " ('Classification,', 7),\n",
       " ('Search', 6),\n",
       " ('Local', 4),\n",
       " ('Probabilistic', 4),\n",
       " ('Model', 4),\n",
       " ('Social', 4),\n",
       " ('Multiple', 4),\n",
       " ('Models', 4),\n",
       " ('Tensor', 3),\n",
       " ('Supervised', 3),\n",
       " ('An', 3),\n",
       " ('Analysis,', 3),\n",
       " ('Semantic', 3),\n",
       " ('Representations', 3),\n",
       " ('Planning,', 3),\n",
       " ('Optimal', 3),\n",
       " ('Planning', 3)]"
      ]
     },
     "execution_count": 134,
     "metadata": {},
     "output_type": "execute_result"
    }
   ],
   "source": [
    "# merge all titles in the group into one corpus\n",
    "lst = []\n",
    "for i in df[df['gp']==4]['title']:\n",
    "    lst.append(i)\n",
    "corp = str(lst)[2:-2].replace(\"\\'\", '')\n",
    "\n",
    "# tokenize the corpus\n",
    "tokenizer = nltk.tokenize.WhitespaceTokenizer()\n",
    "tokens = tokenizer.tokenize(corp)\n",
    "stopwords_removed = [token for token in tokens if not token in stopwords.words('english')]\n",
    "\n",
    "# Check most common words in the group\n",
    "counter = Counter()\n",
    "counter.update(stopwords_removed)\n",
    "most_common = counter.most_common(20)\n",
    "most_common"
   ]
  },
  {
   "cell_type": "markdown",
   "metadata": {},
   "source": [
    "## group 5"
   ]
  },
  {
   "cell_type": "code",
   "execution_count": 133,
   "metadata": {},
   "outputs": [
    {
     "data": {
      "text/plain": [
       "[('Using', 14),\n",
       " ('using', 13),\n",
       " ('Online', 3),\n",
       " ('Classification', 2),\n",
       " ('Information', 2),\n",
       " ('Robot', 2),\n",
       " ('Localization', 2),\n",
       " ('Model,', 2),\n",
       " ('Embedding', 2),\n",
       " ('Joint', 2),\n",
       " ('Voted', 1),\n",
       " ('RDA', 1),\n",
       " ('Method,', 1),\n",
       " ('Emotion', 1),\n",
       " ('Microblog', 1),\n",
       " ('Texts', 1),\n",
       " ('Class', 1),\n",
       " ('Sequential', 1),\n",
       " ('Rules,', 1),\n",
       " ('Solving', 1)]"
      ]
     },
     "execution_count": 133,
     "metadata": {},
     "output_type": "execute_result"
    }
   ],
   "source": [
    "# merge all titles in the group into one corpus\n",
    "lst = []\n",
    "for i in df[df['gp']==5]['title']:\n",
    "    lst.append(i)\n",
    "corp = str(lst)[2:-2].replace(\"\\'\", '')\n",
    "\n",
    "# tokenize the corpus\n",
    "tokenizer = nltk.tokenize.WhitespaceTokenizer()\n",
    "tokens = tokenizer.tokenize(corp)\n",
    "stopwords_removed = [token for token in tokens if not token in stopwords.words('english')]\n",
    "\n",
    "# Check most common words in the group\n",
    "counter = Counter()\n",
    "counter.update(stopwords_removed)\n",
    "most_common = counter.most_common(20)\n",
    "most_common"
   ]
  }
 ],
 "metadata": {
  "colab": {
   "collapsed_sections": [
    "1Bq6HcaJSzWe",
    "mKBYBdKjSrC2",
    "TuA0ZcPfRu0e"
   ],
   "name": "MSIS522-Assignment3.ipynb",
   "provenance": []
  },
  "kernelspec": {
   "display_name": "Python 3 (ipykernel)",
   "language": "python",
   "name": "python3"
  },
  "language_info": {
   "codemirror_mode": {
    "name": "ipython",
    "version": 3
   },
   "file_extension": ".py",
   "mimetype": "text/x-python",
   "name": "python",
   "nbconvert_exporter": "python",
   "pygments_lexer": "ipython3",
   "version": "3.9.7"
  }
 },
 "nbformat": 4,
 "nbformat_minor": 1
}
